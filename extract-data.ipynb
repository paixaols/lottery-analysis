{
 "cells": [
  {
   "cell_type": "code",
   "execution_count": 1,
   "id": "ef5f3a00",
   "metadata": {
    "ExecuteTime": {
     "end_time": "2024-01-03T21:06:49.689019Z",
     "start_time": "2024-01-03T21:06:48.705014Z"
    }
   },
   "outputs": [],
   "source": [
    "import pandas as pd\n",
    "import time\n",
    "from selenium import webdriver\n",
    "from selenium.webdriver.chrome.service import Service\n",
    "from selenium.webdriver.chrome.options import Options\n",
    "from selenium.webdriver.common.by import By\n",
    "from selenium.webdriver.common.keys import Keys\n",
    "from selenium.webdriver.support import expected_conditions as EC\n",
    "from selenium.webdriver.support.wait import WebDriverWait"
   ]
  },
  {
   "cell_type": "code",
   "execution_count": 2,
   "id": "1f722e31",
   "metadata": {
    "ExecuteTime": {
     "end_time": "2024-01-03T21:06:52.192975Z",
     "start_time": "2024-01-03T21:06:50.935008Z"
    }
   },
   "outputs": [],
   "source": [
    "# Iniciando a sessão\n",
    "driver_path = 'C:/Users/lucas/chromedriver.exe'\n",
    "service = Service(executable_path=driver_path)\n",
    "\n",
    "options = Options()\n",
    "options.page_load_strategy = 'normal'\n",
    "options.add_argument(\"--incognito\")\n",
    "\n",
    "driver = webdriver.Chrome(service=service, options=options)"
   ]
  },
  {
   "cell_type": "code",
   "execution_count": 3,
   "id": "819e3f4a",
   "metadata": {
    "ExecuteTime": {
     "end_time": "2024-01-03T21:06:53.956834Z",
     "start_time": "2024-01-03T21:06:52.192975Z"
    }
   },
   "outputs": [],
   "source": [
    "# Navegando até a página\n",
    "url = 'https://loterias.caixa.gov.br/Paginas/Mega-Sena.aspx'\n",
    "driver.get(url)"
   ]
  },
  {
   "cell_type": "code",
   "execution_count": 4,
   "id": "4d52a7f6",
   "metadata": {
    "ExecuteTime": {
     "end_time": "2024-01-03T21:07:00.617710Z",
     "start_time": "2024-01-03T21:07:00.494467Z"
    }
   },
   "outputs": [],
   "source": [
    "# GOTO\n",
    "search = driver.find_element(By.XPATH, '//*[@id=\"buscaConcurso\"]')\n",
    "start = 1500\n",
    "search.send_keys(start)\n",
    "search.send_keys(Keys.ENTER)"
   ]
  },
  {
   "cell_type": "code",
   "execution_count": 5,
   "id": "2801817e",
   "metadata": {
    "ExecuteTime": {
     "end_time": "2024-01-03T21:18:41.422160Z",
     "start_time": "2024-01-03T21:07:22.455064Z"
    }
   },
   "outputs": [],
   "source": [
    "resultados = []\n",
    "\n",
    "finish = 1\n",
    "num_conc = start\n",
    "count = 0\n",
    "max_count = 2*(finish-start)\n",
    "while num_conc > finish:\n",
    "    count += 1\n",
    "    if count == max_count:\n",
    "        break\n",
    "    time.sleep(1)\n",
    "\n",
    "    try:\n",
    "        # Números sorteados\n",
    "        lista_dezenas = WebDriverWait(driver, timeout=10).until(\n",
    "            EC.presence_of_element_located((By.XPATH, '//*[@id=\"ulDezenas\"]'))\n",
    "        )\n",
    "        dezenas = lista_dezenas.find_elements(By.TAG_NAME, 'li')\n",
    "        dezenas = [ int(d.text) for d in dezenas ]\n",
    "\n",
    "        # Número do concurso e data\n",
    "        concurso = driver.find_element(By.XPATH, '//*[@id=\"wp_resultados\"]/div[1]/div/h2/span')\n",
    "        num_conc = concurso.text.split(' ')[1]\n",
    "        num_conc = int(num_conc)\n",
    "\n",
    "        # Guardar resultados\n",
    "        dados = { f'n{i+1}': dezenas[i] for i in range(len(dezenas)) }\n",
    "        dados['info_concurso'] = concurso.text\n",
    "        resultados.append(pd.DataFrame(dados, index=[0]))\n",
    "\n",
    "        # Ir para sorteio anterior\n",
    "        sorteio_anterior = WebDriverWait(driver, timeout=10).until(\n",
    "            EC.element_to_be_clickable((By.XPATH, '//*[@id=\"wp_resultados\"]/div[1]/div/div[2]/ul/li[2]/a'))\n",
    "        )\n",
    "        sorteio_anterior.click()\n",
    "    except:\n",
    "        continue\n",
    "\n",
    "df = pd.concat(resultados)"
   ]
  },
  {
   "cell_type": "code",
   "execution_count": 9,
   "id": "393381c8",
   "metadata": {
    "ExecuteTime": {
     "end_time": "2024-01-03T21:19:28.895640Z",
     "start_time": "2024-01-03T21:19:26.678578Z"
    }
   },
   "outputs": [],
   "source": [
    "driver.quit()"
   ]
  },
  {
   "cell_type": "code",
   "execution_count": 8,
   "id": "1c782e79",
   "metadata": {
    "ExecuteTime": {
     "end_time": "2024-01-03T21:19:05.750786Z",
     "start_time": "2024-01-03T21:19:05.728190Z"
    }
   },
   "outputs": [],
   "source": [
    "# df.to_csv('data.csv', index=False)\n",
    "df.to_csv('data.csv', index=False, mode='a', header=False)"
   ]
  },
  {
   "cell_type": "code",
   "execution_count": null,
   "id": "ef4ebc33",
   "metadata": {},
   "outputs": [],
   "source": []
  }
 ],
 "metadata": {
  "kernelspec": {
   "display_name": "Python 3 (ipykernel)",
   "language": "python",
   "name": "python3"
  },
  "language_info": {
   "codemirror_mode": {
    "name": "ipython",
    "version": 3
   },
   "file_extension": ".py",
   "mimetype": "text/x-python",
   "name": "python",
   "nbconvert_exporter": "python",
   "pygments_lexer": "ipython3",
   "version": "3.10.10"
  }
 },
 "nbformat": 4,
 "nbformat_minor": 5
}
